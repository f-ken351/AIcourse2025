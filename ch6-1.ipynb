{
  "cells": [
    {
      "cell_type": "markdown",
      "metadata": {
        "id": "cMpB82lgwpTH"
      },
      "source": [
        "- (c) Ken-ichi Fukui, 2025/01/04\n",
        "- MIT License"
      ]
    },
    {
      "cell_type": "markdown",
      "metadata": {
        "id": "CdcUyZtjwpTK"
      },
      "source": [
        "## 多層パーセプトロンによる手書き文字認識\n",
        "- MLP Classifier\n",
        "    - https://scikit-learn.org/stable/modules/generated/sklearn.neural_network.MLPClassifier.html"
      ]
    },
    {
      "cell_type": "code",
      "execution_count": 9,
      "metadata": {
        "id": "enHLTdm9wpTL"
      },
      "outputs": [],
      "source": [
        "import numpy as np\n",
        "import matplotlib.pyplot as plt\n",
        "from sklearn.neural_network import MLPClassifier\n",
        "from sklearn.decomposition import PCA\n",
        "from sklearn.model_selection import cross_validate, ValidationCurveDisplay, LearningCurveDisplay\n",
        "from sklearn.datasets import fetch_openml"
      ]
    },
    {
      "cell_type": "code",
      "source": [
        "# openmlからMNISTデータをダウンロード\n",
        "X_all, y_all = fetch_openml('mnist_784', return_X_y=True, parser='auto')\n",
        "\n",
        "# 最初の2000点のみ使用する\n",
        "n_sub_data = 2000\n",
        "X_sub, y_sub = X_all[:n_sub_data], y_all[:n_sub_data].astype(int)"
      ],
      "metadata": {
        "id": "MwCRZwcDAFde"
      },
      "execution_count": 5,
      "outputs": []
    },
    {
      "cell_type": "markdown",
      "source": [
        "### PCAによる次元圧縮"
      ],
      "metadata": {
        "id": "zHJO4FbiAmSd"
      }
    },
    {
      "cell_type": "code",
      "source": [
        "def train_pca(X, n_comp):\n",
        "    pca = PCA(n_components=n_comp)\n",
        "    return pca.fit_transform(X)"
      ],
      "metadata": {
        "id": "N_eOUtTwAPBI"
      },
      "execution_count": 3,
      "outputs": []
    },
    {
      "cell_type": "markdown",
      "source": [
        "### 多層パーセプトロン(MLP)のインスタンスの生成と学習"
      ],
      "metadata": {
        "id": "jE9Tyg8LAsaH"
      }
    },
    {
      "cell_type": "code",
      "source": [
        "X_sub_pca = train_pca(X=X_sub, n_comp=30)\n",
        "\n",
        "mlp = MLPClassifier(\n",
        "        hidden_layer_sizes=(100,), #隠れ層のノード数\n",
        "        activation='relu',         #活性化関数\n",
        "        solver='adam',             #最適化アルゴリズム\n",
        "        early_stopping=True,       #早期停止の設定\n",
        "        n_iter_no_change=20        #早期停止の停滞上限\n",
        ")\n",
        "scores = cross_validate(mlp, X_sub_pca, y_sub, cv=5, return_train_score=True)\n",
        "print(\"Ave. Training data accuracy: \", np.average(scores['train_score']))\n",
        "print(\"Ave. Test data accuracy: \", np.average(scores['test_score']))"
      ],
      "metadata": {
        "id": "TcK_E7dOASp8",
        "outputId": "6b5d565d-33e3-48b8-c034-73f67a94d01c",
        "colab": {
          "base_uri": "https://localhost:8080/"
        }
      },
      "execution_count": 11,
      "outputs": [
        {
          "output_type": "stream",
          "name": "stdout",
          "text": [
            "Ave. Training data accuracy:  0.957625\n",
            "Ave. Test data accuracy:  0.7915\n"
          ]
        }
      ]
    },
    {
      "cell_type": "markdown",
      "metadata": {
        "id": "Eh7jBv5FwpTP"
      },
      "source": [
        "### 損失関数の学習曲線の描画"
      ]
    },
    {
      "cell_type": "code",
      "execution_count": 7,
      "metadata": {
        "colab": {
          "base_uri": "https://localhost:8080/",
          "height": 470
        },
        "id": "D8oS0UdIwpTP",
        "outputId": "11e835f5-072c-4869-8c6b-d72c82c2ea98"
      },
      "outputs": [
        {
          "output_type": "display_data",
          "data": {
            "text/plain": [
              "<Figure size 640x480 with 1 Axes>"
            ],
            "image/png": "[encoded data removed]"
          },
          "metadata": {}
        }
      ],
      "source": [
        "plt.plot(mlp.loss_curve_)\n",
        "plt.xlabel(\"#epochs\")\n",
        "plt.ylabel(\"training loss\")\n",
        "plt.show()"
      ]
    },
    {
      "cell_type": "markdown",
      "metadata": {
        "id": "CZTPAjpIwpTQ"
      },
      "source": [
        "### 学習データおよびテストデータに対するAccuracyの算出"
      ]
    },
    {
      "cell_type": "code",
      "execution_count": null,
      "metadata": {
        "id": "uLqa7b2UwpTQ",
        "outputId": "68f0d34b-7cf6-4369-e140-b73a3db1a6ae"
      },
      "outputs": [
        {
          "name": "stdout",
          "output_type": "stream",
          "text": [
            "accuracy for training data: 84.10%\n",
            "accuracy for test data: 73.50%\n"
          ]
        }
      ],
      "source": [
        "y_trn_pred = nn.predict(X_trn_pca)\n",
        "acc = np.sum(y_trn == y_trn_pred, axis=0)*100 / X_trn_pca.shape[0]\n",
        "print('accuracy for training data: %.2f%%' % acc)\n",
        "\n",
        "y_tst_pred = nn.predict(X_tst_pca)\n",
        "acc = np.sum(y_tst == y_tst_pred, axis=0)*100 / X_tst_pca.shape[0]\n",
        "print('accuracy for test data: %.2f%%' % acc)"
      ]
    },
    {
      "cell_type": "code",
      "execution_count": null,
      "metadata": {
        "id": "mv5sYXqUwpTQ"
      },
      "outputs": [],
      "source": []
    }
  ],
  "metadata": {
    "kernelspec": {
      "display_name": "Python 3",
      "language": "python",
      "name": "python3"
    },
    "language_info": {
      "codemirror_mode": {
        "name": "ipython",
        "version": 3
      },
      "file_extension": ".py",
      "mimetype": "text/x-python",
      "name": "python",
      "nbconvert_exporter": "python",
      "pygments_lexer": "ipython3",
      "version": "3.8.6"
    },
    "colab": {
      "provenance": []
    }
  },
  "nbformat": 4,
  "nbformat_minor": 0
}