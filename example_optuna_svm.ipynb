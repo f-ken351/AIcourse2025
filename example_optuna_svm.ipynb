{
 "cells": [
  {
   "cell_type": "markdown",
   "metadata": {},
   "source": [
    "## Optunaによるハイパーパラメータ最適化\n",
    "- Optuna 要インストール\n",
    " - https://optuna.org"
   ]
  },
  {
   "cell_type": "code",
   "execution_count": 3,
   "metadata": {},
   "outputs": [],
   "source": [
    "import numpy as np\n",
    "from sklearn.svm import SVC\n",
    "from sklearn.datasets import load_breast_cancer\n",
    "from sklearn.model_selection import cross_val_score, train_test_split\n",
    "from sklearn.preprocessing import scale\n",
    "import optuna"
   ]
  },
  {
   "cell_type": "markdown",
   "metadata": {},
   "source": [
    "### Breast Cancerデータのロード"
   ]
  },
  {
   "cell_type": "code",
   "execution_count": 4,
   "metadata": {},
   "outputs": [],
   "source": [
    "df = load_breast_cancer()\n",
    "X = scale(df.data)\n",
    "y = df.target"
   ]
  },
  {
   "cell_type": "markdown",
   "metadata": {},
   "source": [
    "### 最適化関数の定義"
   ]
  },
  {
   "cell_type": "code",
   "execution_count": 9,
   "metadata": {
    "scrolled": true
   },
   "outputs": [],
   "source": [
    "def objective(trial):\n",
    "    param_kernel = trial.suggest_categorical('param_kernel', ['rbf', 'poly'])\n",
    "    param_gamma = trial.suggest_float('param_gamma', 1e-3, 1e3)\n",
    "    param_degree = trial.suggest_int('param_degree', 1, 4)\n",
    "    param_coef0 =  trial.suggest_int('param_coef0', 0, 1e3)\n",
    "    svm = SVC(kernel=param_kernel, gamma=param_gamma, degree=param_degree, coef0=param_coef0)\n",
    "\n",
    "    # クロスバリデーションのテストデータに対するAccuracy\n",
    "    score = cross_val_score(svm, X_train, y_train, cv=5)\n",
    "    # デフォルトでは最小化になっているため，(1 - accuracy)を返すように設定\n",
    "    return 1.0 - score.mean()"
   ]
  },
  {
   "cell_type": "code",
   "execution_count": 13,
   "metadata": {
    "scrolled": true
   },
   "outputs": [
    {
     "name": "stderr",
     "output_type": "stream",
     "text": [
      "[I 2025-01-29 16:28:38,708] A new study created in memory with name: no-name-8defc946-58b8-4ec8-a71f-23d251a44879\n",
      "[I 2025-01-29 16:28:38,731] Trial 0 finished with value: 0.035221518987341716 and parameters: {'param_kernel': 'poly', 'param_gamma': 0.1153747029700693, 'param_degree': 2, 'param_coef0': 146}. Best is trial 0 with value: 0.035221518987341716.\n",
      "[I 2025-01-29 16:28:38,745] Trial 1 finished with value: 0.05778481012658221 and parameters: {'param_kernel': 'poly', 'param_gamma': 345.5613814823207, 'param_degree': 2, 'param_coef0': 539}. Best is trial 0 with value: 0.035221518987341716.\n",
      "[I 2025-01-29 16:28:38,761] Trial 2 finished with value: 0.15835443037974684 and parameters: {'param_kernel': 'poly', 'param_gamma': 204.4530452792677, 'param_degree': 4, 'param_coef0': 27}. Best is trial 0 with value: 0.035221518987341716.\n",
      "[I 2025-01-29 16:28:38,783] Trial 3 finished with value: 0.37436708860759504 and parameters: {'param_kernel': 'rbf', 'param_gamma': 558.6902697559232, 'param_degree': 1, 'param_coef0': 198}. Best is trial 0 with value: 0.035221518987341716.\n",
      "[I 2025-01-29 16:28:38,789] Trial 4 finished with value: 0.027626582278480916 and parameters: {'param_kernel': 'poly', 'param_gamma': 313.42486473506466, 'param_degree': 3, 'param_coef0': 877}. Best is trial 4 with value: 0.027626582278480916.\n",
      "[I 2025-01-29 16:28:38,809] Trial 5 finished with value: 0.37436708860759504 and parameters: {'param_kernel': 'rbf', 'param_gamma': 39.05574417809913, 'param_degree': 1, 'param_coef0': 879}. Best is trial 4 with value: 0.027626582278480916.\n",
      "[I 2025-01-29 16:28:38,815] Trial 6 finished with value: 0.04272151898734189 and parameters: {'param_kernel': 'poly', 'param_gamma': 957.8895722609718, 'param_degree': 3, 'param_coef0': 692}. Best is trial 4 with value: 0.027626582278480916.\n",
      "[I 2025-01-29 16:28:38,830] Trial 7 finished with value: 0.04531645569620246 and parameters: {'param_kernel': 'poly', 'param_gamma': 834.625837271701, 'param_degree': 1, 'param_coef0': 750}. Best is trial 4 with value: 0.027626582278480916.\n",
      "[I 2025-01-29 16:28:38,847] Trial 8 finished with value: 0.37436708860759504 and parameters: {'param_kernel': 'rbf', 'param_gamma': 280.4447116204131, 'param_degree': 4, 'param_coef0': 103}. Best is trial 4 with value: 0.027626582278480916.\n",
      "[I 2025-01-29 16:28:38,855] Trial 9 finished with value: 0.0653481012658228 and parameters: {'param_kernel': 'poly', 'param_gamma': 293.6148547595311, 'param_degree': 2, 'param_coef0': 130}. Best is trial 4 with value: 0.027626582278480916.\n",
      "[I 2025-01-29 16:28:38,876] Trial 10 finished with value: 0.37436708860759504 and parameters: {'param_kernel': 'rbf', 'param_gamma': 575.3138675965796, 'param_degree': 3, 'param_coef0': 988}. Best is trial 4 with value: 0.027626582278480916.\n",
      "[I 2025-01-29 16:28:38,885] Trial 11 finished with value: 0.027626582278480916 and parameters: {'param_kernel': 'poly', 'param_gamma': 164.74706900724934, 'param_degree': 3, 'param_coef0': 361}. Best is trial 4 with value: 0.027626582278480916.\n",
      "[I 2025-01-29 16:28:38,894] Trial 12 finished with value: 0.04272151898734189 and parameters: {'param_kernel': 'poly', 'param_gamma': 440.3639757045636, 'param_degree': 3, 'param_coef0': 362}. Best is trial 4 with value: 0.027626582278480916.\n",
      "[I 2025-01-29 16:28:38,904] Trial 13 finished with value: 0.027626582278480916 and parameters: {'param_kernel': 'poly', 'param_gamma': 163.31507117238218, 'param_degree': 3, 'param_coef0': 402}. Best is trial 4 with value: 0.027626582278480916.\n",
      "[I 2025-01-29 16:28:38,915] Trial 14 finished with value: 0.09041139240506324 and parameters: {'param_kernel': 'poly', 'param_gamma': 726.7585227813903, 'param_degree': 4, 'param_coef0': 579}. Best is trial 4 with value: 0.027626582278480916.\n",
      "[I 2025-01-29 16:28:38,925] Trial 15 finished with value: 0.04272151898734189 and parameters: {'param_kernel': 'poly', 'param_gamma': 424.73285506626837, 'param_degree': 3, 'param_coef0': 312}. Best is trial 4 with value: 0.027626582278480916.\n",
      "[I 2025-01-29 16:28:38,935] Trial 16 finished with value: 0.037689873417721564 and parameters: {'param_kernel': 'poly', 'param_gamma': 117.10305829119648, 'param_degree': 2, 'param_coef0': 690}. Best is trial 4 with value: 0.027626582278480916.\n",
      "[I 2025-01-29 16:28:38,946] Trial 17 finished with value: 0.09797468354430383 and parameters: {'param_kernel': 'poly', 'param_gamma': 638.0396648928001, 'param_degree': 4, 'param_coef0': 460}. Best is trial 4 with value: 0.027626582278480916.\n",
      "[I 2025-01-29 16:28:38,966] Trial 18 finished with value: 0.37436708860759504 and parameters: {'param_kernel': 'rbf', 'param_gamma': 238.63101612009936, 'param_degree': 3, 'param_coef0': 838}. Best is trial 4 with value: 0.027626582278480916.\n",
      "[I 2025-01-29 16:28:38,976] Trial 19 finished with value: 0.05028481012658226 and parameters: {'param_kernel': 'poly', 'param_gamma': 379.1857192213055, 'param_degree': 2, 'param_coef0': 999}. Best is trial 4 with value: 0.027626582278480916.\n",
      "[I 2025-01-29 16:28:38,987] Trial 20 finished with value: 0.060316455696202476 and parameters: {'param_kernel': 'poly', 'param_gamma': 103.26718276066376, 'param_degree': 4, 'param_coef0': 269}. Best is trial 4 with value: 0.027626582278480916.\n",
      "[I 2025-01-29 16:28:38,996] Trial 21 finished with value: 0.027626582278480916 and parameters: {'param_kernel': 'poly', 'param_gamma': 172.9234610695352, 'param_degree': 3, 'param_coef0': 426}. Best is trial 4 with value: 0.027626582278480916.\n",
      "[I 2025-01-29 16:28:39,005] Trial 22 finished with value: 0.03268987341772145 and parameters: {'param_kernel': 'poly', 'param_gamma': 126.97680423902767, 'param_degree': 3, 'param_coef0': 589}. Best is trial 4 with value: 0.027626582278480916.\n",
      "[I 2025-01-29 16:28:39,014] Trial 23 finished with value: 0.03772151898734177 and parameters: {'param_kernel': 'poly', 'param_gamma': 284.5090829014795, 'param_degree': 3, 'param_coef0': 377}. Best is trial 4 with value: 0.027626582278480916.\n",
      "[I 2025-01-29 16:28:39,023] Trial 24 finished with value: 0.04778481012658242 and parameters: {'param_kernel': 'poly', 'param_gamma': 478.0958104597101, 'param_degree': 3, 'param_coef0': 246}. Best is trial 4 with value: 0.027626582278480916.\n",
      "[I 2025-01-29 16:28:39,032] Trial 25 finished with value: 0.037689873417721564 and parameters: {'param_kernel': 'poly', 'param_gamma': 69.7253499878795, 'param_degree': 2, 'param_coef0': 489}. Best is trial 4 with value: 0.027626582278480916.\n",
      "[I 2025-01-29 16:28:39,052] Trial 26 finished with value: 0.37436708860759504 and parameters: {'param_kernel': 'rbf', 'param_gamma': 183.82317167697934, 'param_degree': 3, 'param_coef0': 639}. Best is trial 4 with value: 0.027626582278480916.\n",
      "[I 2025-01-29 16:28:39,063] Trial 27 finished with value: 0.07787974683544296 and parameters: {'param_kernel': 'poly', 'param_gamma': 358.46061097992526, 'param_degree': 4, 'param_coef0': 394}. Best is trial 4 with value: 0.027626582278480916.\n",
      "[I 2025-01-29 16:28:39,072] Trial 28 finished with value: 0.027626582278480916 and parameters: {'param_kernel': 'poly', 'param_gamma': 237.9606553173294, 'param_degree': 3, 'param_coef0': 837}. Best is trial 4 with value: 0.027626582278480916.\n",
      "[I 2025-01-29 16:28:39,082] Trial 29 finished with value: 0.04018987341772162 and parameters: {'param_kernel': 'poly', 'param_gamma': 28.213377291570936, 'param_degree': 2, 'param_coef0': 305}. Best is trial 4 with value: 0.027626582278480916.\n"
     ]
    }
   ],
   "source": [
    "X_train, X_test, y_train, y_test = train_test_split(X, y, test_size=0.3, random_state=1)\n",
    "\n",
    "# サンプラーインスタンスの生成\n",
    "smp = optuna.samplers.TPESampler(seed=1)\n",
    "# 最適化インスタンスの生成\n",
    "study = optuna.create_study(sampler=smp)\n",
    "# 最適化の実行，n_trialsは試行回数\n",
    "study.optimize(objective, n_trials=30)"
   ]
  },
  {
   "cell_type": "markdown",
   "metadata": {},
   "source": [
    "### Bestパラメータで再度学習を行いAccuracyを算出"
   ]
  },
  {
   "cell_type": "code",
   "execution_count": 14,
   "metadata": {},
   "outputs": [
    {
     "name": "stdout",
     "output_type": "stream",
     "text": [
      "Train acc: 1.0000, Test acc: 0.9474\n"
     ]
    }
   ],
   "source": [
    "svm_best = SVC(kernel=study.best_params['param_kernel'], \n",
    "                            gamma=study.best_params['param_gamma'], \n",
    "                            degree=study.best_params['param_degree'],\n",
    "                            coef0=study.best_params['param_coef0'])\n",
    "svm_best.fit(X_train, y_train)\n",
    "trn_acc = svm_best.score(X_train, y_train)\n",
    "tst_acc = svm_best.score(X_test, y_test)\n",
    "print(\"Train acc: %.4f, Test acc: %.4f\" % (trn_acc, tst_acc))"
   ]
  },
  {
   "cell_type": "markdown",
   "metadata": {},
   "source": [
    "### Best パラメータを表示"
   ]
  },
  {
   "cell_type": "code",
   "execution_count": 15,
   "metadata": {},
   "outputs": [
    {
     "name": "stdout",
     "output_type": "stream",
     "text": [
      "{'param_kernel': 'poly', 'param_gamma': 313.42486473506466, 'param_degree': 3, 'param_coef0': 877}\n"
     ]
    }
   ],
   "source": [
    "print(study.best_params)"
   ]
  },
  {
   "cell_type": "code",
   "execution_count": null,
   "metadata": {},
   "outputs": [],
   "source": []
  }
 ],
 "metadata": {
  "kernelspec": {
   "display_name": "Python 3 (ipykernel)",
   "language": "python",
   "name": "python3"
  },
  "language_info": {
   "codemirror_mode": {
    "name": "ipython",
    "version": 3
   },
   "file_extension": ".py",
   "mimetype": "text/x-python",
   "name": "python",
   "nbconvert_exporter": "python",
   "pygments_lexer": "ipython3",
   "version": "3.12.3"
  }
 },
 "nbformat": 4,
 "nbformat_minor": 4
}
