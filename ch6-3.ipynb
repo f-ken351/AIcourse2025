{
  "cells": [
    {
      "cell_type": "markdown",
      "metadata": {
        "id": "ZKEg77lP1udx"
      },
      "source": [
        "- (c) Ken-ichi Fukui, 2025/01/06\n",
        "- MIT License"
      ]
    },
    {
      "cell_type": "markdown",
      "metadata": {
        "id": "XAiKxOiw1udz"
      },
      "source": [
        "## 線形回帰によるHousingデータ住宅価格の推定"
      ]
    },
    {
      "cell_type": "code",
      "execution_count": null,
      "metadata": {
        "id": "YV4Nt4Nm1udz"
      },
      "outputs": [],
      "source": [
        "import numpy as np\n",
        "from sklearn.datasets import fetch_california_housing\n",
        "from sklearn.preprocessing import scale\n",
        "from sklearn.linear_model import LinearRegression\n",
        "from sklearn.model_selection import train_test_split, cross_validate\n",
        "from sklearn.feature_selection import SequentialFeatureSelector\n",
        "import matplotlib.pyplot as plt"
      ]
    },
    {
      "cell_type": "markdown",
      "source": [
        "### California Housingデータのロード"
      ],
      "metadata": {
        "id": "zxV-r1fdiwnn"
      }
    },
    {
      "cell_type": "code",
      "source": [
        "housing = fetch_california_housing()\n",
        "X = scale(housing.data)\n",
        "y = housing.target\n",
        "\n",
        "print(housing.DESCR)"
      ],
      "metadata": {
        "colab": {
          "base_uri": "https://localhost:8080/"
        },
        "id": "7Dhbqt6EixLn",
        "outputId": "d0ccfbf3-05e3-46de-b963-a3ab846bf742"
      },
      "execution_count": null,
      "outputs": [
        {
          "output_type": "stream",
          "name": "stdout",
          "text": [
            ".. _california_housing_dataset:\n",
            "\n",
            "California Housing dataset\n",
            "--------------------------\n",
            "\n",
            "**Data Set Characteristics:**\n",
            "\n",
            ":Number of Instances: 20640\n",
            "\n",
            ":Number of Attributes: 8 numeric, predictive attributes and the target\n",
            "\n",
            ":Attribute Information:\n",
            "    - MedInc        median income in block group\n",
            "    - HouseAge      median house age in block group\n",
            "    - AveRooms      average number of rooms per household\n",
            "    - AveBedrms     average number of bedrooms per household\n",
            "    - Population    block group population\n",
            "    - AveOccup      average number of household members\n",
            "    - Latitude      block group latitude\n",
            "    - Longitude     block group longitude\n",
            "\n",
            ":Missing Attribute Values: None\n",
            "\n",
            "This dataset was obtained from the StatLib repository.\n",
            "https://www.dcc.fc.up.pt/~ltorgo/Regression/cal_housing.html\n",
            "\n",
            "The target variable is the median house value for California districts,\n",
            "expressed in hundreds of thousands of dollars ($100,000).\n",
            "\n",
            "This dataset was derived from the 1990 U.S. census, using one row per census\n",
            "block group. A block group is the smallest geographical unit for which the U.S.\n",
            "Census Bureau publishes sample data (a block group typically has a population\n",
            "of 600 to 3,000 people).\n",
            "\n",
            "A household is a group of people residing within a home. Since the average\n",
            "number of rooms and bedrooms in this dataset are provided per household, these\n",
            "columns may take surprisingly large values for block groups with few households\n",
            "and many empty houses, such as vacation resorts.\n",
            "\n",
            "It can be downloaded/loaded using the\n",
            ":func:`sklearn.datasets.fetch_california_housing` function.\n",
            "\n",
            ".. rubric:: References\n",
            "\n",
            "- Pace, R. Kelley and Ronald Barry, Sparse Spatial Autoregressions,\n",
            "  Statistics and Probability Letters, 33 (1997) 291-297\n",
            "\n"
          ]
        }
      ]
    },
    {
      "cell_type": "markdown",
      "source": [
        "### データを分割\n",
        "- sub1は特徴選択やハイパーパラメータ最適化用データ，sub2は最適化後の評価用データ"
      ],
      "metadata": {
        "id": "fo04hdB3X_Js"
      }
    },
    {
      "cell_type": "code",
      "source": [
        "X_sub1, X_sub2, y_sub1, y_sub2 = train_test_split(X, y, test_size = 0.5, random_state = 0)"
      ],
      "metadata": {
        "id": "RUMs8Uv0X6i_"
      },
      "execution_count": null,
      "outputs": []
    },
    {
      "cell_type": "markdown",
      "metadata": {
        "id": "vWrxHVGC1ud2"
      },
      "source": [
        "### 線形回帰＋逐次前進特徴選択（SBS）"
      ]
    },
    {
      "cell_type": "code",
      "execution_count": null,
      "metadata": {
        "colab": {
          "base_uri": "https://localhost:8080/"
        },
        "id": "i3DrNbfi1ud3",
        "outputId": "e5f55280-25c9-4aa2-b53d-a22360d63977"
      },
      "outputs": [
        {
          "output_type": "stream",
          "name": "stdout",
          "text": [
            "Selected feature names: ['MedInc']\n",
            "Selected feature names: ['MedInc' 'HouseAge']\n",
            "Selected feature names: ['MedInc' 'HouseAge' 'Latitude']\n",
            "Selected feature names: ['MedInc' 'HouseAge' 'Latitude' 'Longitude']\n",
            "Selected feature names: ['MedInc' 'HouseAge' 'AveRooms' 'Latitude' 'Longitude']\n",
            "Selected feature names: ['MedInc' 'HouseAge' 'AveRooms' 'Population' 'Latitude' 'Longitude']\n",
            "Selected feature names: ['MedInc' 'HouseAge' 'AveRooms' 'AveBedrms' 'Population' 'Latitude'\n",
            " 'Longitude']\n"
          ]
        }
      ],
      "source": [
        "r2_trn_ave, r2_tst_ave = [], []\n",
        "\n",
        "for n_features in range(1, 8):\n",
        "    lr = LinearRegression()\n",
        "    sfs_forward = SequentialFeatureSelector(lr,\n",
        "                                            scoring = 'r2',\n",
        "                                            direction='forward',\n",
        "                                            n_features_to_select=n_features,\n",
        "                                            cv=5)\n",
        "    sfs_forward.fit(X_sub1, y_sub1)\n",
        "    print(\"Selected feature names:\", sfs_forward.get_feature_names_out(housing.feature_names))\n",
        "\n",
        "    X_sub2_selected = sfs_forward.transform(X_sub2)\n",
        "    lr_selected = LinearRegression()\n",
        "    scores = cross_validate(lr_selected, X_sub2_selected, y_sub2, cv=10, return_train_score=True)\n",
        "    r2_trn_ave.append(scores['train_score'].mean())\n",
        "    r2_tst_ave.append(scores['test_score'].mean())"
      ]
    },
    {
      "cell_type": "markdown",
      "source": [
        "### 特徴数毎の平均決定係数のグラフをプロット"
      ],
      "metadata": {
        "id": "HNeyuzpvuUYe"
      }
    },
    {
      "cell_type": "code",
      "execution_count": null,
      "metadata": {
        "colab": {
          "base_uri": "https://localhost:8080/",
          "height": 470
        },
        "id": "0FCo_fZB1ud4",
        "outputId": "675e56ef-7bbc-48b9-b02b-93d7b7e4ad64"
      },
      "outputs": [
        {
          "output_type": "display_data",
          "data": {
            "text/plain": [
              "<Figure size 640x480 with 1 Axes>"
            ],
            "image/png": "[encoded data removed]"
          },
          "metadata": {}
        }
      ],
      "source": [
        "plt.plot(range(1,8), r2_trn_ave, marker='o', label=\"Training data\")\n",
        "plt.plot(range(1,8), r2_tst_ave, marker='x', label=\"Test data\")\n",
        "plt.ylabel('R^2 score')\n",
        "plt.xlabel('Number of features')\n",
        "plt.legend(loc=\"lower right\")\n",
        "plt.grid()\n",
        "plt.show()"
      ]
    },
    {
      "cell_type": "markdown",
      "metadata": {
        "id": "bRA7dRQp1ud5"
      },
      "source": [
        "### Lasso回帰"
      ]
    },
    {
      "cell_type": "code",
      "execution_count": null,
      "metadata": {
        "colab": {
          "base_uri": "https://localhost:8080/"
        },
        "id": "7t_bwtV91ud5",
        "outputId": "e909e880-0f46-4678-91cf-48a2bfd1f843"
      },
      "outputs": [
        {
          "output_type": "stream",
          "name": "stdout",
          "text": [
            "best validation score: 0.596, best param: {'alpha': 0.01}\n",
            "Training r2: 0.600\n",
            "Test r2: 0.597\n"
          ]
        }
      ],
      "source": [
        "from sklearn.linear_model import Lasso\n",
        "from sklearn.model_selection import GridSearchCV\n",
        "\n",
        "params = {'alpha':[0.0001, 0.001, 0.01, 0.1, 1.0]}\n",
        "gs = GridSearchCV(Lasso(), params, cv=5, scoring=\"r2\")\n",
        "gs.fit(X_sub1, y_sub1)\n",
        "print(\"best validation score: {:.3f}, best param: {}\".format(gs.best_score_, gs.best_params_))\n",
        "\n",
        "# ベストパラメータで再学習しクロスバリデーションで評価\n",
        "lasso_best = Lasso(alpha=gs.best_params_['alpha'])\n",
        "scores = cross_validate(lasso_best, X_sub2, y_sub2, cv=10, return_train_score=True)\n",
        "print('Training r2: {:.3f}'.format(scores['train_score'].mean()))\n",
        "print('Test r2: {:.3f}'.format(scores['test_score'].mean()))"
      ]
    },
    {
      "cell_type": "markdown",
      "metadata": {
        "id": "RWBiRQXI1ud7"
      },
      "source": [
        "### SVR"
      ]
    },
    {
      "cell_type": "code",
      "execution_count": null,
      "metadata": {
        "id": "_SEpX5ZQ1ud7",
        "outputId": "44d770f3-ecd1-49d3-8eb7-764406506609",
        "colab": {
          "base_uri": "https://localhost:8080/"
        }
      },
      "outputs": [
        {
          "output_type": "stream",
          "name": "stdout",
          "text": [
            "best validation score: 0.738, best param: {'gamma': 1.0}\n",
            "Training r2: 0.812\n",
            "Test r2: 0.741\n"
          ]
        }
      ],
      "source": [
        "from sklearn.svm import SVR\n",
        "\n",
        "# 計算時間がかかります\n",
        "params = {'gamma':[0.01, 0.1, 1.0, 10.0]}\n",
        "gs = GridSearchCV(SVR(kernel='rbf'), params, cv=5, scoring=\"r2\")\n",
        "gs.fit(X_sub1, y_sub1)\n",
        "print(\"best validation score: {:.3f}, best param: {}\".format(gs.best_score_, gs.best_params_))\n",
        "\n",
        "# ベストパラメータで再学習しクロスバリデーションで評価\n",
        "svr_best = SVR(kernel='rbf', gamma=gs.best_params_['gamma'])\n",
        "scores = cross_validate(svr_best, X_sub2, y_sub2, cv=10, return_train_score=True)\n",
        "print('Training r2: {:.3f}'.format(scores['train_score'].mean()))\n",
        "print('Test r2: {:.3f}'.format(scores['test_score'].mean()))"
      ]
    }
  ],
  "metadata": {
    "kernelspec": {
      "display_name": "Python 3 (ipykernel)",
      "language": "python",
      "name": "python3"
    },
    "language_info": {
      "codemirror_mode": {
        "name": "ipython",
        "version": 3
      },
      "file_extension": ".py",
      "mimetype": "text/x-python",
      "name": "python",
      "nbconvert_exporter": "python",
      "pygments_lexer": "ipython3",
      "version": "3.9.7"
    },
    "colab": {
      "name": "ch6-3.ipynb",
      "provenance": []
    }
  },
  "nbformat": 4,
  "nbformat_minor": 0
}