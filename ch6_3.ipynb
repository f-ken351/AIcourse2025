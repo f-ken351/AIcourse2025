{
  "cells": [
    {
      "cell_type": "markdown",
      "metadata": {
        "id": "ZKEg77lP1udx"
      },
      "source": [
        "- (c) Ken-ichi Fukui, 2025/01/05\n",
        "- MIT License"
      ]
    },
    {
      "cell_type": "markdown",
      "metadata": {
        "id": "XAiKxOiw1udz"
      },
      "source": [
        "## 線形回帰によるHousingデータ住宅価格の推定と特徴選択"
      ]
    },
    {
      "cell_type": "code",
      "execution_count": 21,
      "metadata": {
        "id": "YV4Nt4Nm1udz"
      },
      "outputs": [],
      "source": [
        "import numpy as np\n",
        "from sklearn.datasets import fetch_california_housing\n",
        "from sklearn.preprocessing import scale\n",
        "from sklearn.linear_model import LinearRegression\n",
        "from sklearn.model_selection import train_test_split, cross_validate\n",
        "from sklearn.feature_selection import SequentialFeatureSelector\n",
        "from sklearn.metrics import r2_score\n",
        "import matplotlib.pyplot as plt"
      ]
    },
    {
      "cell_type": "markdown",
      "source": [
        "### California Housingデータのロード"
      ],
      "metadata": {
        "id": "zxV-r1fdiwnn"
      }
    },
    {
      "cell_type": "code",
      "source": [
        "housing = fetch_california_housing()\n",
        "X = scale(housing.data)\n",
        "y = housing.target\n",
        "n_of_features = len(housing.feature_names)\n",
        "\n",
        "print(housing.DESCR)"
      ],
      "metadata": {
        "colab": {
          "base_uri": "https://localhost:8080/"
        },
        "id": "7Dhbqt6EixLn",
        "outputId": "63cecff2-3f3f-4712-e17d-889419ebd14d"
      },
      "execution_count": 16,
      "outputs": [
        {
          "output_type": "stream",
          "name": "stdout",
          "text": [
            ".. _california_housing_dataset:\n",
            "\n",
            "California Housing dataset\n",
            "--------------------------\n",
            "\n",
            "**Data Set Characteristics:**\n",
            "\n",
            ":Number of Instances: 20640\n",
            "\n",
            ":Number of Attributes: 8 numeric, predictive attributes and the target\n",
            "\n",
            ":Attribute Information:\n",
            "    - MedInc        median income in block group\n",
            "    - HouseAge      median house age in block group\n",
            "    - AveRooms      average number of rooms per household\n",
            "    - AveBedrms     average number of bedrooms per household\n",
            "    - Population    block group population\n",
            "    - AveOccup      average number of household members\n",
            "    - Latitude      block group latitude\n",
            "    - Longitude     block group longitude\n",
            "\n",
            ":Missing Attribute Values: None\n",
            "\n",
            "This dataset was obtained from the StatLib repository.\n",
            "https://www.dcc.fc.up.pt/~ltorgo/Regression/cal_housing.html\n",
            "\n",
            "The target variable is the median house value for California districts,\n",
            "expressed in hundreds of thousands of dollars ($100,000).\n",
            "\n",
            "This dataset was derived from the 1990 U.S. census, using one row per census\n",
            "block group. A block group is the smallest geographical unit for which the U.S.\n",
            "Census Bureau publishes sample data (a block group typically has a population\n",
            "of 600 to 3,000 people).\n",
            "\n",
            "A household is a group of people residing within a home. Since the average\n",
            "number of rooms and bedrooms in this dataset are provided per household, these\n",
            "columns may take surprisingly large values for block groups with few households\n",
            "and many empty houses, such as vacation resorts.\n",
            "\n",
            "It can be downloaded/loaded using the\n",
            ":func:`sklearn.datasets.fetch_california_housing` function.\n",
            "\n",
            ".. rubric:: References\n",
            "\n",
            "- Pace, R. Kelley and Ronald Barry, Sparse Spatial Autoregressions,\n",
            "  Statistics and Probability Letters, 33 (1997) 291-297\n",
            "\n"
          ]
        }
      ]
    },
    {
      "cell_type": "markdown",
      "metadata": {
        "id": "vWrxHVGC1ud2"
      },
      "source": [
        "### 線形回帰＋逐次前進特徴選択（SBS）"
      ]
    },
    {
      "cell_type": "code",
      "execution_count": 17,
      "metadata": {
        "colab": {
          "base_uri": "https://localhost:8080/"
        },
        "id": "i3DrNbfi1ud3",
        "outputId": "4c842c54-a7b6-40ba-a836-bcf79f45a8f1"
      },
      "outputs": [
        {
          "output_type": "stream",
          "name": "stdout",
          "text": [
            "Selected feature names: ['MedInc']\n",
            "Selected feature names: ['MedInc' 'HouseAge']\n",
            "Selected feature names: ['MedInc' 'HouseAge' 'AveRooms']\n",
            "Selected feature names: ['MedInc' 'HouseAge' 'AveRooms' 'AveBedrms']\n",
            "Selected feature names: ['MedInc' 'HouseAge' 'AveRooms' 'AveBedrms' 'Population']\n",
            "Selected feature names: ['MedInc' 'HouseAge' 'AveRooms' 'AveBedrms' 'Population' 'AveOccup']\n",
            "Selected feature names: ['MedInc' 'HouseAge' 'AveRooms' 'AveBedrms' 'Population' 'AveOccup'\n",
            " 'Latitude']\n"
          ]
        }
      ],
      "source": [
        "r2_trn_ave, r2_tst_ave = [], []\n",
        "\n",
        "for n_features in range(1, 8):\n",
        "    lr = LinearRegression()\n",
        "    sfs_forward = SequentialFeatureSelector(lr,\n",
        "                                            scoring = 'r2',\n",
        "                                            direction='forward',\n",
        "                                            n_features_to_select=n_features,\n",
        "                                            cv=5)\n",
        "    sfs_forward.fit(X, y)\n",
        "    print(\"Selected feature names:\", sfs_forward.get_feature_names_out(housing.feature_names))\n",
        "\n",
        "    X_selected = sfs_forward.transform(X)\n",
        "    lr_selected = LinearRegression()\n",
        "    scores = cross_validate(lr_selected, X_selected, y, cv=10, return_train_score=True)\n",
        "    r2_trn_ave.append(scores['train_score'].mean())\n",
        "    r2_tst_ave.append(scores['test_score'].mean())"
      ]
    },
    {
      "cell_type": "markdown",
      "source": [
        "### 特徴数毎の平均決定係数のグラフをプロット"
      ],
      "metadata": {
        "id": "HNeyuzpvuUYe"
      }
    },
    {
      "cell_type": "code",
      "execution_count": 19,
      "metadata": {
        "colab": {
          "base_uri": "https://localhost:8080/",
          "height": 471
        },
        "id": "0FCo_fZB1ud4",
        "outputId": "9e5bf153-7d49-4f5b-c8d4-ea194b20a58e"
      },
      "outputs": [
        {
          "output_type": "display_data",
          "data": {
            "text/plain": [
              "<Figure size 640x480 with 1 Axes>"
            ],
            "image/png": "[encoded data removed]"
          },
          "metadata": {}
        }
      ],
      "source": [
        "plt.plot(range(1,8), r2_trn_ave, marker='o', label=\"Training data\")\n",
        "plt.plot(range(1,8), r2_tst_ave, marker='x', label=\"Test data\")\n",
        "plt.ylabel('R^2 score')\n",
        "plt.xlabel('Number of features')\n",
        "plt.legend(loc=\"lower right\")\n",
        "plt.grid()\n",
        "plt.show()"
      ]
    },
    {
      "cell_type": "markdown",
      "metadata": {
        "id": "bRA7dRQp1ud5"
      },
      "source": [
        "### Lasso回帰"
      ]
    },
    {
      "cell_type": "code",
      "execution_count": 23,
      "metadata": {
        "colab": {
          "base_uri": "https://localhost:8080/"
        },
        "id": "7t_bwtV91ud5",
        "outputId": "9a110f4a-5580-4cd0-a85b-f47e3fc1687c"
      },
      "outputs": [
        {
          "output_type": "stream",
          "name": "stdout",
          "text": [
            "# 1 best validation score:0.607, best param:{'alpha': 0.001}\n",
            "# 2 best validation score:0.605, best param:{'alpha': 0.001}\n",
            "# 3 best validation score:0.600, best param:{'alpha': 0.01}\n",
            "# 4 best validation score:0.605, best param:{'alpha': 0.001}\n",
            "# 5 best validation score:0.603, best param:{'alpha': 0.001}\n",
            "# 6 best validation score:0.600, best param:{'alpha': 0.001}\n",
            "# 7 best validation score:0.602, best param:{'alpha': 0.001}\n",
            "# 8 best validation score:0.591, best param:{'alpha': 0.01}\n",
            "# 9 best validation score:0.600, best param:{'alpha': 0.001}\n",
            "#10 best validation score:0.610, best param:{'alpha': 0.001}\n",
            "#11 best validation score:0.596, best param:{'alpha': 0.01}\n",
            "#12 best validation score:0.601, best param:{'alpha': 0.001}\n",
            "#13 best validation score:0.600, best param:{'alpha': 0.001}\n",
            "#14 best validation score:0.605, best param:{'alpha': 0.001}\n",
            "#15 best validation score:0.600, best param:{'alpha': 0.01}\n",
            "#16 best validation score:0.605, best param:{'alpha': 0.001}\n",
            "#17 best validation score:0.491, best param:{'alpha': 0.1}\n",
            "#18 best validation score:0.579, best param:{'alpha': 0.01}\n",
            "#19 best validation score:0.611, best param:{'alpha': 0.001}\n",
            "#20 best validation score:0.605, best param:{'alpha': 0.001}\n",
            "#21 best validation score:0.601, best param:{'alpha': 0.001}\n",
            "#22 best validation score:0.605, best param:{'alpha': 0.001}\n",
            "#23 best validation score:0.490, best param:{'alpha': 0.1}\n",
            "#24 best validation score:0.595, best param:{'alpha': 0.01}\n",
            "#25 best validation score:0.598, best param:{'alpha': 0.001}\n",
            "#26 best validation score:0.608, best param:{'alpha': 0.0001}\n",
            "#27 best validation score:0.586, best param:{'alpha': 0.01}\n",
            "#28 best validation score:0.607, best param:{'alpha': 0.001}\n",
            "#29 best validation score:0.597, best param:{'alpha': 0.001}\n",
            "#30 best validation score:0.602, best param:{'alpha': 0.001}\n"
          ]
        }
      ],
      "source": [
        "from sklearn.linear_model import Lasso\n",
        "from sklearn.model_selection import GridSearchCV\n",
        "\n",
        "params = {'alpha':[0.0001, 0.001, 0.01, 0.1, 1.0]}\n",
        "\n",
        "n_of_trials=30\n",
        "tst_scores_lasso, n_features= [],[]\n",
        "for k in range(0, n_of_trials):\n",
        "    X_train, X_test, y_train, y_test = train_test_split(X, y, test_size = 0.2, random_state = k)\n",
        "    gs = GridSearchCV(Lasso(), params, cv=3, scoring=\"r2\")\n",
        "    gs.fit(X_train, y_train)\n",
        "    print(\"#{:2d} best validation score:{:.3f}, best param:{}\".format(k+1, gs.best_score_, gs.best_params_))\n",
        "\n",
        "    # ベストパラメータで再学習しテストデータに適用\n",
        "    lasso = Lasso(alpha=gs.best_params_['alpha'])\n",
        "    lasso.fit(X_train, y_train)\n",
        "    tst_scores_lasso.append(lasso.score(X_test, y_test))\n",
        "    n_features.append(np.count_nonzero(lasso.coef_))"
      ]
    },
    {
      "cell_type": "code",
      "source": [
        "from sklearn.linear_model import Lasso\n",
        "from sklearn.model_selection import GridSearchCV\n",
        "\n",
        "params = {'alpha':[0.0001, 0.001, 0.01, 0.1, 1.0]}\n",
        "\n",
        "gs = GridSearchCV(Lasso(), params, cv=5, scoring=\"r2\")\n",
        "gs.fit(X, y)\n",
        "print(\"best validation score:{:.3f}, best param:{}\".format(gs.best_score_, gs.best_params_))\n",
        "\n",
        "# ベストパラメータで再学習しテストデータに適用\n",
        "lasso_best = Lasso(alpha=gs.best_params_['alpha'])\n",
        "scores = cross_validate(lasso_best, X, y, cv=10, return_train_score=True)\n",
        "print(scores['train_score'].mean())\n",
        "print(scores['test_score'].mean())"
      ],
      "metadata": {
        "id": "aSFaoZvEwaej",
        "outputId": "936d817f-296f-4a0a-b414-3df0e500a3a1",
        "colab": {
          "base_uri": "https://localhost:8080/"
        }
      },
      "execution_count": 28,
      "outputs": [
        {
          "output_type": "stream",
          "name": "stdout",
          "text": [
            "#best validation score:0.553, best param:{'alpha': 0.001}\n",
            "0.6063370598244259\n",
            "0.5114670870740959\n"
          ]
        }
      ]
    },
    {
      "cell_type": "code",
      "execution_count": 24,
      "metadata": {
        "colab": {
          "base_uri": "https://localhost:8080/"
        },
        "id": "FnP1TePd1ud6",
        "outputId": "b80ac54b-425d-440d-b45f-7fa83fc084ee"
      },
      "outputs": [
        {
          "output_type": "stream",
          "name": "stdout",
          "text": [
            "Ave. test accuracy: 0.594\n",
            "Ave. number of features: 7.333\n"
          ]
        }
      ],
      "source": [
        "print(\"Ave. test accuracy: {:.3f}\".format(np.mean(tst_scores_lasso)))\n",
        "print(\"Ave. number of features: {:.3f}\".format(np.mean(n_features)))"
      ]
    },
    {
      "cell_type": "markdown",
      "metadata": {
        "id": "RWBiRQXI1ud7"
      },
      "source": [
        "### SVR"
      ]
    },
    {
      "cell_type": "code",
      "execution_count": null,
      "metadata": {
        "id": "_SEpX5ZQ1ud7"
      },
      "outputs": [],
      "source": [
        "from sklearn.svm import SVR\n",
        "\n",
        "params = {'gamma':[0.01, 0.05, 0.1], 'epsilon':[0.01, 0.1, 1.0], 'C':[10.0, 100.0, 1000.0]}\n",
        "\n",
        "tst_scores_svr= []\n",
        "for k in range(0, n_of_trials):\n",
        "    X_train, X_test, y_train, y_test = train_test_split(X, y, test_size = 0.2, random_state = k)\n",
        "    gs = GridSearchCV(SVR(kernel='rbf'), params, cv=3, scoring=\"r2\")\n",
        "    gs.fit(X_train, y_train)\n",
        "    print(\"#{:2d} best validation score:{:.3f}, best param:{}\".format(k+1, gs.best_score_, gs.best_params_))\n",
        "\n",
        "    # ベストパラメータで再学習しテストデータに適用\n",
        "    svr = SVR(kernel='rbf', gamma=gs.best_params_['gamma'], epsilon=gs.best_params_['epsilon'], C=gs.best_params_['C'])\n",
        "    svr.fit(X_train, y_train)\n",
        "    tst_scores_svr.append(svr.score(X_test, y_test))"
      ]
    },
    {
      "cell_type": "code",
      "execution_count": null,
      "metadata": {
        "colab": {
          "base_uri": "https://localhost:8080/"
        },
        "id": "pM95Azwg1ud8",
        "outputId": "4e83b8ec-5655-47fb-f89b-e8d5117ec6c8"
      },
      "outputs": [
        {
          "output_type": "stream",
          "name": "stdout",
          "text": [
            "Ave. test accuracy: 0.841\n"
          ]
        }
      ],
      "source": [
        "print(\"Ave. test accuracy: {:.3f}\".format(np.mean(tst_scores_svr)))"
      ]
    }
  ],
  "metadata": {
    "kernelspec": {
      "display_name": "Python 3 (ipykernel)",
      "language": "python",
      "name": "python3"
    },
    "language_info": {
      "codemirror_mode": {
        "name": "ipython",
        "version": 3
      },
      "file_extension": ".py",
      "mimetype": "text/x-python",
      "name": "python",
      "nbconvert_exporter": "python",
      "pygments_lexer": "ipython3",
      "version": "3.9.7"
    },
    "colab": {
      "name": "ch6-3.ipynb",
      "provenance": []
    }
  },
  "nbformat": 4,
  "nbformat_minor": 0
}